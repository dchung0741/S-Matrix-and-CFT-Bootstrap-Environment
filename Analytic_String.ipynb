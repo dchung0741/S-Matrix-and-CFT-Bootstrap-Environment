{
 "cells": [
  {
   "cell_type": "code",
   "execution_count": 1,
   "metadata": {},
   "outputs": [],
   "source": [
    "from S_Matrix_env import S_Matrix\n",
    "import pandas as pd\n",
    "from math import sqrt\n",
    "from numpy import array, concatenate\n",
    "import matplotlib.pyplot as plt"
   ]
  },
  {
   "cell_type": "code",
   "execution_count": 20,
   "metadata": {},
   "outputs": [],
   "source": [
    "string_spec_csv = pd.read_csv('String_Spec_1.csv')\n",
    "constrained_k = [5 + i for i in range(0, 26)]"
   ]
  },
  {
   "cell_type": "code",
   "execution_count": 3,
   "metadata": {},
   "outputs": [],
   "source": [
    "def truncate(mass_level):\n",
    "    trunc_spec = string_spec_csv.loc[string_spec_csv['Spin'] <= 2* (mass_level - 1)].loc[string_spec_csv['n'] <= mass_level]\n",
    "\n",
    "    trunc_spin = dict(trunc_spec['Spin'].value_counts())\n",
    "    trunc_mass = list(map(sqrt, trunc_spec['n'].values))\n",
    "    trunc_cl = list(trunc_spec['cl'].values)\n",
    "    \n",
    "    return trunc_spin, trunc_mass, trunc_cl"
   ]
  },
  {
   "cell_type": "code",
   "execution_count": 9,
   "metadata": {},
   "outputs": [
    {
     "name": "stdout",
     "output_type": "stream",
     "text": [
      "[5.07498850e-04 1.37078633e-04 5.50650182e-03 6.44127071e-03\n",
      " 3.46669446e-05 6.93338891e-05 9.90718128e-05 3.66257344e-03\n",
      " 4.94161896e-04 5.50650182e-03 2.77026623e-05 2.02083750e-03\n",
      " 9.91679345e-04 3.56350162e-03 1.95229818e-03 1.02634629e-03\n",
      " 1.53944627e-05 6.44127071e-03]\n",
      "[ True  True  True  True  True  True  True  True  True  True  True  True\n",
      "  True  True  True  True  True  True  True  True  True  True  True  True\n",
      "  True  True  True  True  True  True  True  True  True  True  True  True\n",
      "  True  True  True  True  True  True]\n",
      "[ True  True  True  True  True  True  True  True  True  True  True  True\n",
      "  True  True  True  True  True  True  True  True  True  True  True  True\n",
      "  True  True  True  True  True  True  True  True  True  True  True  True\n",
      "  True  True  True  True  True  True]\n"
     ]
    }
   ],
   "source": [
    "spin_spec_5, mass_spec_5, cl_spec_5 = truncate(mass_level = 5)\n",
    "\n",
    "string_spec_level_5 = S_Matrix.Spectrum_Gen(\n",
    "    s_spin_num = spin_spec_5, s_mass_spec = mass_spec_5, s_cl_spec = cl_spec_5,\n",
    "    t_spin_num = spin_spec_5, t_mass_spec = mass_spec_5, t_cl_spec = cl_spec_5,\n",
    "    interested_constraint = constrained_k,\n",
    "    u_channel = True,\n",
    "    lowest_s_power = 1\n",
    "    )\n",
    "\n",
    "print(string_spec_level_5.Crossing())\n",
    "# s^{2} t^{k - 2}\n",
    "print(array([string_spec_level_5.s_kq_Coeff(k, k - 2) - string_spec_level_5.t_kq_Coeff(k, 2) for k in range(3, 45)]) >= 0 )\n",
    "# s^{1} t^{k - 1}\n",
    "print(array([string_spec_level_5.s_kq_Coeff(k, k - 1) - string_spec_level_5.t_kq_Coeff(k, 1) for k in range(3, 45)]) >= 0 )"
   ]
  },
  {
   "cell_type": "code",
   "execution_count": 10,
   "metadata": {},
   "outputs": [
    {
     "name": "stdout",
     "output_type": "stream",
     "text": [
      "[ True  True  True  True  True  True  True  True  True  True  True  True\n",
      "  True  True  True  True  True  True  True  True  True  True  True  True\n",
      "  True  True  True  True  True  True  True  True  True  True  True  True\n",
      "  True  True  True  True  True  True]\n",
      "[ True  True  True  True  True  True  True  True  True  True  True  True\n",
      "  True  True  True  True  True  True  True  True  True  True  True  True\n",
      "  True  True  True  True  True  True  True  True  True  True  True  True\n",
      "  True  True  True  True  True  True]\n"
     ]
    }
   ],
   "source": [
    "spin_spec_10, mass_spec_10, cl_spec_10 = truncate(mass_level = 10)\n",
    "\n",
    "string_spec_level_10 = S_Matrix.Spectrum_Gen(\n",
    "    s_spin_num = spin_spec_10, s_mass_spec = mass_spec_10, s_cl_spec = cl_spec_10,\n",
    "    t_spin_num = spin_spec_10, t_mass_spec = mass_spec_10, t_cl_spec = cl_spec_10,\n",
    "    interested_constraint = constrained_k,\n",
    "    u_channel = True,\n",
    "    lowest_s_power = 1\n",
    "    )\n",
    "\n",
    "# s^{2} t^{k - 2}\n",
    "print(array([string_spec_level_10.s_kq_Coeff(k, k - 2) - string_spec_level_10.t_kq_Coeff(k, 2) for k in range(3, 45)]) >= 0 )\n",
    "# s^{1} t^{k - 1}\n",
    "print(array([string_spec_level_10.s_kq_Coeff(k, k - 1) - string_spec_level_10.t_kq_Coeff(k, 1) for k in range(3, 45)]) >= 0 )"
   ]
  },
  {
   "cell_type": "code",
   "execution_count": 24,
   "metadata": {},
   "outputs": [
    {
     "data": {
      "text/plain": [
       "array([ True,  True,  True,  True,  True,  True,  True,  True,  True,\n",
       "        True,  True,  True,  True,  True,  True,  True,  True,  True,\n",
       "        True,  True,  True,  True,  True,  True,  True,  True,  True,\n",
       "        True,  True,  True,  True,  True,  True,  True,  True,  True,\n",
       "        True,  True,  True,  True,  True,  True,  True,  True,  True,\n",
       "        True,  True,  True,  True,  True,  True,  True,  True,  True,\n",
       "        True,  True,  True,  True,  True,  True,  True,  True,  True,\n",
       "        True,  True,  True,  True,  True,  True,  True,  True,  True,\n",
       "        True,  True,  True,  True,  True,  True,  True,  True,  True,\n",
       "        True,  True,  True,  True,  True,  True,  True,  True,  True,\n",
       "        True,  True,  True,  True,  True,  True,  True,  True,  True,\n",
       "        True,  True,  True,  True,  True,  True,  True,  True,  True,\n",
       "        True,  True,  True,  True,  True,  True,  True,  True,  True,\n",
       "        True,  True,  True,  True,  True,  True,  True,  True,  True,\n",
       "        True,  True,  True,  True,  True,  True,  True,  True,  True,\n",
       "        True,  True,  True,  True,  True,  True,  True,  True,  True,\n",
       "        True,  True,  True,  True,  True,  True,  True,  True,  True,\n",
       "        True,  True,  True,  True,  True,  True,  True,  True,  True,\n",
       "        True,  True,  True,  True,  True,  True,  True,  True,  True,\n",
       "        True,  True,  True,  True,  True,  True,  True,  True,  True,\n",
       "        True,  True,  True,  True,  True,  True,  True,  True,  True,\n",
       "        True,  True,  True,  True,  True,  True,  True,  True,  True,\n",
       "        True,  True,  True,  True,  True,  True,  True,  True,  True,\n",
       "        True])"
      ]
     },
     "execution_count": 24,
     "metadata": {},
     "output_type": "execute_result"
    }
   ],
   "source": [
    "spin_spec_50, mass_spec_50, cl_spec_50 = truncate(mass_level = 50)\n",
    "\n",
    "string_spec_level_50 = S_Matrix.Spectrum_Gen(\n",
    "    s_spin_num = spin_spec_50, s_mass_spec = mass_spec_50, s_cl_spec = cl_spec_50,\n",
    "    t_spin_num = spin_spec_50, t_mass_spec = mass_spec_50, t_cl_spec = cl_spec_50,\n",
    "    interested_constraint = constrained_k,\n",
    "    u_channel = True,\n",
    "    lowest_s_power = 1\n",
    "    )\n",
    "\n",
    "string_spec_level_50.Crossing() >= 0\n",
    "\n",
    "# s^{2} t^{k - 2}\n",
    "#print(array([string_spec_level_50.s_kq_Coeff(k, k - 2) - string_spec_level_50.t_kq_Coeff(k, 2) for k in range(3, 45)]) >= 0 )\n",
    "# s^{1} t^{k - 1}\n",
    "#print(array([string_spec_level_50.s_kq_Coeff(k, k - 1) - string_spec_level_50.t_kq_Coeff(k, 1) for k in range(3, 45)]) >= 0 )"
   ]
  },
  {
   "cell_type": "code",
   "execution_count": 23,
   "metadata": {},
   "outputs": [
    {
     "data": {
      "text/plain": [
       "array([ True,  True,  True,  True,  True,  True,  True,  True,  True,\n",
       "        True,  True,  True,  True,  True,  True,  True,  True,  True,\n",
       "        True,  True,  True,  True,  True,  True,  True,  True,  True,\n",
       "        True,  True,  True,  True,  True,  True,  True,  True,  True,\n",
       "        True,  True,  True,  True,  True,  True,  True,  True,  True,\n",
       "        True,  True,  True,  True,  True,  True,  True,  True,  True,\n",
       "        True,  True,  True,  True,  True,  True,  True,  True,  True,\n",
       "        True,  True,  True,  True,  True,  True,  True,  True,  True,\n",
       "        True,  True,  True,  True,  True,  True,  True,  True,  True,\n",
       "        True,  True,  True,  True,  True,  True,  True,  True,  True,\n",
       "        True,  True,  True,  True,  True,  True,  True,  True,  True,\n",
       "        True,  True,  True,  True,  True,  True,  True,  True,  True,\n",
       "        True,  True,  True,  True,  True,  True,  True,  True,  True,\n",
       "        True,  True,  True,  True,  True,  True,  True,  True,  True,\n",
       "        True,  True,  True,  True,  True,  True,  True,  True,  True,\n",
       "        True,  True,  True,  True,  True,  True,  True,  True,  True,\n",
       "        True,  True,  True,  True,  True,  True,  True,  True,  True,\n",
       "        True,  True,  True,  True,  True,  True,  True,  True,  True,\n",
       "        True,  True,  True,  True,  True,  True,  True,  True,  True,\n",
       "        True,  True,  True,  True,  True,  True,  True,  True,  True,\n",
       "        True,  True,  True,  True,  True,  True,  True,  True,  True,\n",
       "        True,  True,  True,  True,  True,  True,  True,  True,  True,\n",
       "        True,  True,  True,  True,  True,  True,  True,  True,  True,\n",
       "        True])"
      ]
     },
     "execution_count": 23,
     "metadata": {},
     "output_type": "execute_result"
    }
   ],
   "source": [
    "spin_spec_100, mass_spec_100, cl_spec_100 = truncate(mass_level = 100)\n",
    "\n",
    "string_spec_level_100 = S_Matrix.Spectrum_Gen(\n",
    "    s_spin_num = spin_spec_100, s_mass_spec = mass_spec_100, s_cl_spec = cl_spec_100,\n",
    "    t_spin_num = spin_spec_100, t_mass_spec = mass_spec_100, t_cl_spec = cl_spec_100,\n",
    "    interested_constraint = constrained_k,\n",
    "    u_channel = True,\n",
    "    lowest_s_power = 1\n",
    "    )\n",
    "\n",
    "string_spec_level_100.Crossing() >= 0\n",
    "# s^{2} t^{k - 2}\n",
    "#print(array([string_spec_level_100.s_kq_Coeff(k, k - 2) - string_spec_level_100.t_kq_Coeff(k, 2) for k in range(3, 45)]) >= 0 )\n",
    "# s^{1} t^{k - 1}\n",
    "#print(array([string_spec_level_100.s_kq_Coeff(k, k - 1) - string_spec_level_100.t_kq_Coeff(k, 1) for k in range(3, 45)]) >= 0 )"
   ]
  },
  {
   "cell_type": "code",
   "execution_count": 20,
   "metadata": {},
   "outputs": [
    {
     "name": "stdout",
     "output_type": "stream",
     "text": [
      "[2.892395165187757, 2.890133631527466, 2.8898823238251787, 2.8898816500673683]\n",
      "[2.892395165187757, 2.890133631527466, 2.8898823238251787, 2.8898816500673683]\n"
     ]
    }
   ],
   "source": [
    "print([string_spec_level_5.s_kq_Coeff(3, 1), string_spec_level_10.s_kq_Coeff(3, 1), string_spec_level_50.s_kq_Coeff(3, 1), string_spec_level_100.s_kq_Coeff(3, 1)])\n",
    "print([string_spec_level_5.t_kq_Coeff(3, 2), string_spec_level_10.s_kq_Coeff(3, 1), string_spec_level_50.t_kq_Coeff(3, 2), string_spec_level_100.t_kq_Coeff(3, 2)])"
   ]
  },
  {
   "cell_type": "code",
   "execution_count": 13,
   "metadata": {},
   "outputs": [],
   "source": [
    "s_conv_test = []\n",
    "t_conv_test = []\n",
    "\n",
    "for n in range(5, 101):\n",
    "    spin_spec_tmp, mass_spec_tmp, cl_spec_tmp = truncate(mass_level = n)\n",
    "\n",
    "    string_spec_level_tmp = S_Matrix.Spectrum_Gen(\n",
    "        s_spin_num = spin_spec_tmp, s_mass_spec = mass_spec_tmp, s_cl_spec = cl_spec_tmp,\n",
    "        t_spin_num = spin_spec_tmp, t_mass_spec = mass_spec_tmp, t_cl_spec = cl_spec_tmp,\n",
    "        interested_constraint = constrained_k,\n",
    "        u_channel = True,\n",
    "        lowest_s_power = 1\n",
    "        )\n",
    "\n",
    "    s_conv_test.append(string_spec_level_tmp.s_kq_Coeff(3, 1))\n",
    "    t_conv_test.append(string_spec_level_tmp.t_kq_Coeff(3, 2))"
   ]
  },
  {
   "cell_type": "code",
   "execution_count": 14,
   "metadata": {},
   "outputs": [
    {
     "data": {
      "image/png": "[encoded data removed]",
      "text/plain": [
       "<Figure size 432x288 with 1 Axes>"
      ]
     },
     "metadata": {
      "needs_background": "light"
     },
     "output_type": "display_data"
    }
   ],
   "source": [
    "plt.plot(range(5, 101), s_conv_test)\n",
    "plt.plot(range(5, 101), t_conv_test)\n",
    "#plt.plot(range(5, 101), array(s_conv_test) - array(t_conv_test))\n",
    "plt.grid(True)\n",
    "plt.show()"
   ]
  },
  {
   "cell_type": "code",
   "execution_count": 17,
   "metadata": {},
   "outputs": [
    {
     "data": {
      "text/plain": [
       "-2.7867993491778082e-05"
      ]
     },
     "execution_count": 17,
     "metadata": {},
     "output_type": "execute_result"
    }
   ],
   "source": [
    "string_spec_level_tmp.Reward()"
   ]
  },
  {
   "cell_type": "code",
   "execution_count": null,
   "metadata": {},
   "outputs": [],
   "source": []
  }
 ],
 "metadata": {
  "interpreter": {
   "hash": "aee8b7b246df8f9039afb4144a1f6fd8d2ca17a180786b69acc140d282b71a49"
  },
  "kernelspec": {
   "display_name": "Python 3.9.10 64-bit",
   "language": "python",
   "name": "python3"
  },
  "language_info": {
   "codemirror_mode": {
    "name": "ipython",
    "version": 3
   },
   "file_extension": ".py",
   "mimetype": "text/x-python",
   "name": "python",
   "nbconvert_exporter": "python",
   "pygments_lexer": "ipython3",
   "version": "3.9.10"
  },
  "orig_nbformat": 4
 },
 "nbformat": 4,
 "nbformat_minor": 2
}
