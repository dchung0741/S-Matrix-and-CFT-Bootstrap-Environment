{
 "cells": [
  {
   "cell_type": "code",
   "execution_count": 1,
   "metadata": {},
   "outputs": [],
   "source": [
    "from S_Matrix_env import*\n",
    "from S_Matrix_Train import*\n",
    "import pandas as pd\n",
    "from numpy import array, linspace, log10\n",
    "import matplotlib.pyplot as plt\n",
    "#%reload_ext tensorboard"
   ]
  },
  {
   "cell_type": "code",
   "execution_count": 2,
   "metadata": {},
   "outputs": [],
   "source": [
    "def To_Dict(mass, c_coeff):\n",
    "    return {'m': mass, 'cl': c_coeff}"
   ]
  },
  {
   "cell_type": "code",
   "execution_count": 3,
   "metadata": {},
   "outputs": [],
   "source": [
    "Constrained_k = [5 + i for i in range(0, 6)]"
   ]
  },
  {
   "cell_type": "markdown",
   "metadata": {},
   "source": [
    "## Model 1"
   ]
  },
  {
   "cell_type": "code",
   "execution_count": 4,
   "metadata": {},
   "outputs": [],
   "source": [
    "String_Spec_1 = {\n",
    "0: [{'m': sqrt(1), 'cl': 1}, {'m': sqrt(2), 'cl': 1/12}, {'m': sqrt(3), 'cl': 7/360}, {'m': sqrt(4), 'cl': 107/15120}, {'m': sqrt(5), 'cl': 5951/1814400}, {'m': sqrt(6), 'cl': 587/332640}],\n",
    "2: [{'m': sqrt(2), 'cl': 1/6}, {'m': sqrt(3), 'cl': 5/84},  {'m': sqrt(4), 'cl': 13/504}, {'m': sqrt(5), 'cl': 745/57024}],\n",
    "4: [{'m': sqrt(3), 'cl': 9/280}, {'m': sqrt(4), 'cl': 76/3465}, {'m': sqrt(5), 'cl': 565/41184}],\n",
    "6: [{'m': sqrt(4), 'cl': 16/2079}, {'m': sqrt(5), 'cl': 3125/399168}, {'m': sqrt(6), 'cl': 3321/523600}],\n",
    "8: [{'m': sqrt(5), 'cl': 3125/1482624}, {'m': sqrt(6), 'cl': 387/135850}, {'m': sqrt(7), 'cl': 238003927/84509568000}]\n",
    "}\n",
    "\n",
    "String_1 = S_Matrix(String_Spec_1, String_Spec_1, Constrained_k)"
   ]
  },
  {
   "cell_type": "code",
   "execution_count": 5,
   "metadata": {},
   "outputs": [
    {
     "data": {
      "text/html": [
       "<div>\n",
       "<style scoped>\n",
       "    .dataframe tbody tr th:only-of-type {\n",
       "        vertical-align: middle;\n",
       "    }\n",
       "\n",
       "    .dataframe tbody tr th {\n",
       "        vertical-align: top;\n",
       "    }\n",
       "\n",
       "    .dataframe thead th {\n",
       "        text-align: right;\n",
       "    }\n",
       "</style>\n",
       "<table border=\"1\" class=\"dataframe\">\n",
       "  <thead>\n",
       "    <tr style=\"text-align: right;\">\n",
       "      <th></th>\n",
       "      <th>m^2 = 1</th>\n",
       "      <th>m^2 = 2</th>\n",
       "      <th>m^2 = 3</th>\n",
       "      <th>m^2 = 4</th>\n",
       "      <th>m^2 = 5</th>\n",
       "      <th>m^2 = 6</th>\n",
       "      <th>m^2 = 7</th>\n",
       "    </tr>\n",
       "  </thead>\n",
       "  <tbody>\n",
       "    <tr>\n",
       "      <th>0</th>\n",
       "      <td>1.0</td>\n",
       "      <td>0.083333</td>\n",
       "      <td>0.019444</td>\n",
       "      <td>0.007077</td>\n",
       "      <td>0.003280</td>\n",
       "      <td>0.001765</td>\n",
       "      <td>NaN</td>\n",
       "    </tr>\n",
       "    <tr>\n",
       "      <th>2</th>\n",
       "      <td>NaN</td>\n",
       "      <td>0.166667</td>\n",
       "      <td>0.059524</td>\n",
       "      <td>0.025794</td>\n",
       "      <td>0.013065</td>\n",
       "      <td>NaN</td>\n",
       "      <td>NaN</td>\n",
       "    </tr>\n",
       "    <tr>\n",
       "      <th>4</th>\n",
       "      <td>NaN</td>\n",
       "      <td>NaN</td>\n",
       "      <td>0.032143</td>\n",
       "      <td>0.021934</td>\n",
       "      <td>0.013719</td>\n",
       "      <td>NaN</td>\n",
       "      <td>NaN</td>\n",
       "    </tr>\n",
       "    <tr>\n",
       "      <th>6</th>\n",
       "      <td>NaN</td>\n",
       "      <td>NaN</td>\n",
       "      <td>NaN</td>\n",
       "      <td>0.007696</td>\n",
       "      <td>0.007829</td>\n",
       "      <td>0.006343</td>\n",
       "      <td>NaN</td>\n",
       "    </tr>\n",
       "    <tr>\n",
       "      <th>8</th>\n",
       "      <td>NaN</td>\n",
       "      <td>NaN</td>\n",
       "      <td>NaN</td>\n",
       "      <td>NaN</td>\n",
       "      <td>0.002108</td>\n",
       "      <td>0.002849</td>\n",
       "      <td>0.002816</td>\n",
       "    </tr>\n",
       "  </tbody>\n",
       "</table>\n",
       "</div>"
      ],
      "text/plain": [
       "   m^2 = 1   m^2 = 2   m^2 = 3   m^2 = 4   m^2 = 5   m^2 = 6   m^2 = 7\n",
       "0      1.0  0.083333  0.019444  0.007077  0.003280  0.001765       NaN\n",
       "2      NaN  0.166667  0.059524  0.025794  0.013065       NaN       NaN\n",
       "4      NaN       NaN  0.032143  0.021934  0.013719       NaN       NaN\n",
       "6      NaN       NaN       NaN  0.007696  0.007829  0.006343       NaN\n",
       "8      NaN       NaN       NaN       NaN  0.002108  0.002849  0.002816"
      ]
     },
     "execution_count": 5,
     "metadata": {},
     "output_type": "execute_result"
    }
   ],
   "source": [
    "String_1.data_frame_form()"
   ]
  },
  {
   "cell_type": "code",
   "execution_count": 5,
   "metadata": {},
   "outputs": [],
   "source": [
    "Random_Spec_1 = {\n",
    "0: [{'m': sqrt(1), 'cl': 1}, {'m': sqrt(2), 'cl': rand()}, {'m': sqrt(3), 'cl': rand()}, {'m': sqrt(4), 'cl': rand()}, {'m': sqrt(5), 'cl': rand()}, {'m': sqrt(6), 'cl': rand()}],\n",
    "2: [{'m': sqrt(2), 'cl': rand()}, {'m': sqrt(3), 'cl': rand()},  {'m': sqrt(4), 'cl': rand()}, {'m': sqrt(5), 'cl': rand()}],\n",
    "4: [{'m': sqrt(3), 'cl': rand()}, {'m': sqrt(4), 'cl': rand()}, {'m': sqrt(5), 'cl': rand()}],\n",
    "6: [{'m': sqrt(4), 'cl': rand()}, {'m': sqrt(5), 'cl': rand()}, {'m': sqrt(5), 'cl': rand()}, {'m': sqrt(6), 'cl': rand()}],\n",
    "8: [{'m': sqrt(5), 'cl': rand()}, {'m': sqrt(6), 'cl': rand()}, {'m': sqrt(7), 'cl': rand()}]\n",
    "}\n",
    "\n",
    "Random_Theory_1 = S_Matrix(Random_Spec_1, Random_Spec_1, Constrained_k)"
   ]
  },
  {
   "cell_type": "code",
   "execution_count": 17,
   "metadata": {},
   "outputs": [],
   "source": [
    "string_spec = pd.read_csv(\"String_Spec_1.csv\")\n",
    "\n",
    "new_spec_dict = {}\n",
    "rand_spec_dict = {}\n",
    "max_n = 9\n",
    "max_spin = (max_n - 1) * 2\n",
    "\n",
    "for spec in string_spec.iloc:\n",
    "    \n",
    "    \n",
    "    if int(spec['Spin']) > max_spin:\n",
    "        break\n",
    "    \n",
    "    if int(spec['Spin']) in new_spec_dict:\n",
    "\n",
    "        if int(spec['n']) <= max_n:\n",
    "            new_spec_dict[int(spec['Spin'])] += [To_Dict(sqrt(int(spec['n'])), spec['cl'])]\n",
    "            rand_spec_dict[int(spec['Spin'])] += [To_Dict(sqrt(int(spec['n'])), rand())]\n",
    "    \n",
    "    else:\n",
    "\n",
    "        if int(spec['n']) <= max_n:\n",
    "            new_spec_dict[int(spec['Spin'])] = [To_Dict(sqrt(int(spec['n'])), spec['cl'])]\n",
    "            rand_spec_dict[int(spec['Spin'])] = [To_Dict(sqrt(int(spec['n'])), rand())]\n",
    "        \n",
    "\n",
    "\n",
    "##################################################################################################################################################################\n",
    "String_1_New = S_Matrix(new_spec_dict, new_spec_dict, Constrained_k)\n",
    "Random_1_New = S_Matrix(rand_spec_dict, rand_spec_dict, Constrained_k)"
   ]
  },
  {
   "cell_type": "code",
   "execution_count": 20,
   "metadata": {},
   "outputs": [
    {
     "data": {
      "text/plain": [
       "array([1.00000000e+00, 8.33333333e-02, 1.94444444e-02, 7.07671958e-03,\n",
       "       3.27987213e-03, 1.76467051e-03, 1.04995759e-03, 6.71632723e-04,\n",
       "       4.53760301e-04,            nan, 1.66666667e-01, 5.95238095e-02,\n",
       "       2.57936508e-02, 1.30646745e-02, 7.40296740e-03, 4.55445885e-03,\n",
       "       2.98186415e-03, 2.04918517e-03,            nan,            nan,\n",
       "       3.21428571e-02, 2.19336219e-02, 1.37189200e-02, 8.78746254e-03,\n",
       "       5.85421757e-03, 4.05160610e-03, 2.90003394e-03,            nan,\n",
       "                  nan,            nan, 7.69600770e-03, 7.82878387e-03,\n",
       "       6.34262796e-03, 4.86925401e-03, 3.70714095e-03, 2.84168633e-03,\n",
       "                  nan,            nan,            nan,            nan,\n",
       "       2.10774950e-03, 2.84873022e-03, 2.81629563e-03, 2.50521158e-03,\n",
       "       2.13617951e-03,            nan,            nan,            nan,\n",
       "                  nan,            nan, 6.31319145e-04, 1.06247562e-03,\n",
       "       1.23484097e-03, 1.24396061e-03,            nan,            nan,\n",
       "                  nan,            nan,            nan,            nan,\n",
       "       2.01503997e-04, 4.05267083e-04, 5.39885242e-04,            nan,\n",
       "                  nan,            nan,            nan,            nan,\n",
       "                  nan,            nan, 6.74364427e-05, 1.57576828e-04,\n",
       "                  nan,            nan,            nan,            nan,\n",
       "                  nan,            nan,            nan,            nan,\n",
       "       2.34110841e-05])"
      ]
     },
     "execution_count": 20,
     "metadata": {},
     "output_type": "execute_result"
    }
   ],
   "source": [
    "String_1_New.data_frame_form().values.flatten()"
   ]
  },
  {
   "cell_type": "code",
   "execution_count": 41,
   "metadata": {},
   "outputs": [],
   "source": [
    "acc_spec = pd.read_csv(\"Acc_Spec_1.csv\")\n",
    "\n",
    "acc_spec_dict = {}\n",
    "max_spin = 800\n",
    "max_n = 400\n",
    "\n",
    "for spec in acc_spec.iloc:\n",
    "    \n",
    "    \n",
    "    if int(spec['Spin']) > max_spin:\n",
    "        break\n",
    "    \n",
    "    if int(spec['Spin']) in acc_spec_dict:\n",
    "\n",
    "        if int(spec['n']) <= max_n:\n",
    "            acc_spec_dict[int(spec['Spin'])] += [To_Dict(sqrt(int(spec['n'])), spec['cl'])]\n",
    "    \n",
    "    else:\n",
    "\n",
    "        if int(spec['n']) <= max_n:\n",
    "            acc_spec_dict[int(spec['Spin'])] = [To_Dict(sqrt(int(spec['n'])), spec['cl'])]\n",
    "\n",
    "##################################################################################################################################################################\n",
    "Accumulation = S_Matrix(acc_spec_dict, acc_spec_dict, Constrained_k)"
   ]
  },
  {
   "cell_type": "code",
   "execution_count": 45,
   "metadata": {},
   "outputs": [
    {
     "data": {
      "text/plain": [
       "{0: [{'m': 1.0, 'cl': 0.4620981203732968}],\n",
       " 2: [{'m': 1.0, 'cl': 0.0363778242642967}],\n",
       " 4: [{'m': 1.0, 'cl': 0.0014697584546659}],\n",
       " 6: [{'m': 1.0, 'cl': 5.24623526817e-05}],\n",
       " 8: [{'m': 1.0, 'cl': 1.7743950485399288e-06}],\n",
       " 10: [{'m': 1.0, 'cl': 5.8224737589577044e-08}],\n",
       " 12: [{'m': 1.0, 'cl': 1.873845724893304e-09}],\n",
       " 14: [{'m': 1.0, 'cl': 5.949631319445485e-11}],\n",
       " 16: [{'m': 1.0, 'cl': 1.870350734139596e-12}],\n",
       " 18: [{'m': 1.0, 'cl': 5.834974854399802e-14}],\n",
       " 20: [{'m': 1.0, 'cl': 1.809377438598788e-15}],\n",
       " 22: [{'m': 1.0, 'cl': 5.583275867348447e-17}],\n",
       " 24: [{'m': 1.0, 'cl': 1.7158764269775588e-18}],\n",
       " 26: [{'m': 1.0, 'cl': 5.2553268306756595e-20}],\n",
       " 28: [{'m': 1.0, 'cl': 1.604901262529405e-21}],\n",
       " 30: [{'m': 1.0, 'cl': 4.888831040725933e-23}],\n",
       " 32: [{'m': 1.0, 'cl': 1.4859691598715944e-24}],\n",
       " 34: [{'m': 1.0, 'cl': 4.5079311290316444e-26}],\n",
       " 36: [{'m': 1.0, 'cl': 1.3652197660253171e-27}],\n",
       " 38: [{'m': 1.0, 'cl': 4.128244911379336e-29}],\n",
       " 40: [{'m': 1.0, 'cl': 1.2466183005023509e-30}],\n",
       " 42: [{'m': 1.0, 'cl': 3.759797261663185e-32}],\n",
       " 44: [{'m': 1.0, 'cl': 1.132681883091024e-33}],\n",
       " 46: [{'m': 1.0, 'cl': 3.4088445276124503e-35}],\n",
       " 48: [{'m': 1.0, 'cl': 1.0249431642721082e-36}],\n",
       " 50: [{'m': 1.0, 'cl': 3.0790643778601423e-38}],\n",
       " 52: [{'m': 1.0, 'cl': 9.242582339511987e-40}],\n",
       " 54: [{'m': 1.0, 'cl': 2.7723582283185846e-41}],\n",
       " 56: [{'m': 1.0, 'cl': 8.310169805657186e-43}],\n",
       " 58: [{'m': 1.0, 'cl': 2.48940545291404e-44}],\n",
       " 60: [{'m': 1.0, 'cl': 7.45289707217951e-46}],\n",
       " 62: [{'m': 1.0, 'cl': 2.2300525705142074e-47}],\n",
       " 64: [{'m': 1.0, 'cl': 6.669307204882928e-49}],\n",
       " 66: [{'m': 1.0, 'cl': 1.9935895435370942e-50}],\n",
       " 68: [{'m': 1.0, 'cl': 5.9565213903891515e-52}],\n",
       " 70: [{'m': 1.0, 'cl': 1.7789471388797286e-53}],\n",
       " 72: [{'m': 1.0, 'cl': 5.310766908705384e-55}],\n",
       " 74: [{'m': 1.0, 'cl': 1.5848381584808508e-56}],\n",
       " 76: [{'m': 1.0, 'cl': 4.72775468766781e-58}],\n",
       " 78: [{'m': 1.0, 'cl': 1.4098582529476993e-59}],\n",
       " 80: [{'m': 1.0, 'cl': 4.202948013083126e-61}],\n",
       " 82: [{'m': 1.0, 'cl': 1.2525573682904756e-62}],\n",
       " 84: [{'m': 1.0, 'cl': 3.731751886253412e-64}],\n",
       " 86: [{'m': 1.0, 'cl': 1.1114897260129749e-65}],\n",
       " 88: [{'m': 1.0, 'cl': 3.30964426215578e-67}],\n",
       " 90: [{'m': 1.0, 'cl': 9.8524806018e-69}],\n",
       " 92: [{'m': 1.0, 'cl': 2.93226464e-70}],\n",
       " 94: [{'m': 1.0, 'cl': 8.7249e-72}],\n",
       " 96: [{'m': 1.0, 'cl': 2.6e-73}],\n",
       " 98: [{'m': 1.0, 'cl': 0.0}],\n",
       " 100: [{'m': 1.0, 'cl': 0.0}]}"
      ]
     },
     "execution_count": 45,
     "metadata": {},
     "output_type": "execute_result"
    }
   ],
   "source": [
    "Accumulation.Spec_List_to_Spec_Dict()[0]\n",
    "#Accumulation.Reward()"
   ]
  },
  {
   "cell_type": "code",
   "execution_count": 501,
   "metadata": {},
   "outputs": [
    {
     "name": "stdout",
     "output_type": "stream",
     "text": [
      "-0.0185869267022984\n"
     ]
    }
   ],
   "source": [
    "#print(String_1_New.Spec_List_to_Spec_Dict())\n",
    "print(String_1_New.Reward())"
   ]
  },
  {
   "cell_type": "code",
   "execution_count": 358,
   "metadata": {},
   "outputs": [
    {
     "name": "stdout",
     "output_type": "stream",
     "text": [
      "-0.008007134705271361 -1.0263400474452546 -0.0 -0.0\n"
     ]
    }
   ],
   "source": [
    "print(String_1.Reward(), Random_Theory_1.Reward(), String_1_New.Reward(), Random_1_New.Reward())"
   ]
  },
  {
   "cell_type": "code",
   "execution_count": 280,
   "metadata": {},
   "outputs": [
    {
     "name": "stdout",
     "output_type": "stream",
     "text": [
      "-0.008007134705271361\n",
      "-1.0263400474452546\n"
     ]
    }
   ],
   "source": [
    "print(String_1.Reward())\n",
    "print(Random_Theory_1.Reward())"
   ]
  },
  {
   "cell_type": "markdown",
   "metadata": {},
   "source": [
    "### Convergence Test 1 (2D Plot)"
   ]
  },
  {
   "cell_type": "code",
   "execution_count": 7,
   "metadata": {},
   "outputs": [],
   "source": [
    "def n_s_Reward(n, s, spec_df, Constraint_k = Constrained_k):\n",
    "\n",
    "    tmp_spec_dict = {}\n",
    "\n",
    "    max_spin = s\n",
    "    max_n = n\n",
    "\n",
    "    for spec in spec_df.iloc:\n",
    "        \n",
    "        \n",
    "        if int(spec['Spin']) > max_spin:\n",
    "            break\n",
    "        \n",
    "        if int(spec['Spin']) in tmp_spec_dict:\n",
    "\n",
    "            if int(spec['n']) <= max_n:\n",
    "                tmp_spec_dict[int(spec['Spin'])] += [To_Dict(sqrt(int(spec['n'])), spec['cl'])]\n",
    "        \n",
    "        else:\n",
    "\n",
    "            if int(spec['n']) <= max_n:\n",
    "                tmp_spec_dict[int(spec['Spin'])] = [To_Dict(sqrt(int(spec['n'])), spec['cl'])]\n",
    "    \n",
    "    Theory = S_Matrix(tmp_spec_dict, tmp_spec_dict, Constrained_k)\n",
    "    \n",
    "    return Theory.Reward()"
   ]
  },
  {
   "cell_type": "code",
   "execution_count": 508,
   "metadata": {},
   "outputs": [],
   "source": [
    "n_max_list = [n for n in range(2, 31)]\n",
    "s_max_list = [s for s in range(2, 31, 2)]\n",
    "reward_list = [[n_s_Reward(n, spin, string_spec) for n in n_max_list] for spin in s_max_list]\n",
    "pts_list = [ [n, spin] for n in n_max_list for spin in s_max_list]"
   ]
  },
  {
   "cell_type": "code",
   "execution_count": 514,
   "metadata": {},
   "outputs": [],
   "source": [
    "spin = linspace(2, 30, 100)\n",
    "mass_squared = spin/2 + 1"
   ]
  },
  {
   "cell_type": "code",
   "execution_count": 518,
   "metadata": {},
   "outputs": [
    {
     "data": {
      "image/png": "[encoded data removed]",
      "text/plain": [
       "<Figure size 720x360 with 2 Axes>"
      ]
     },
     "metadata": {
      "needs_background": "light"
     },
     "output_type": "display_data"
    }
   ],
   "source": [
    "fig, ax = plt.subplots(constrained_layout=True)\n",
    "data = ax.contourf(n_max_list, s_max_list, reward_list, levels = 200)\n",
    "N, S = array(pts_list).T\n",
    "ax.plot(N, S, 'ok', ms = 2)\n",
    "plt.xticks(n_max_list[::2])\n",
    "plt.yticks(s_max_list)\n",
    "plt.plot(mass_squared, spin, 'r')\n",
    "#ax.set_title('Crossing')\n",
    "ax.set_xlabel('Mass Square')\n",
    "ax.set_ylabel('Spin')\n",
    "ax.set_aspect(1)\n",
    "label_bar = fig.colorbar(data)\n",
    "label_bar.ax.set_ylabel('Reward')\n",
    "plt.rcParams[\"figure.figsize\"] = (12, 8)\n",
    "plt.show()"
   ]
  },
  {
   "cell_type": "markdown",
   "metadata": {},
   "source": [
    "### Convergence Test 2 (1D Plot)"
   ]
  },
  {
   "cell_type": "code",
   "execution_count": 8,
   "metadata": {},
   "outputs": [
    {
     "ename": "NameError",
     "evalue": "name 'string_spec' is not defined",
     "output_type": "error",
     "traceback": [
      "\u001b[0;31m---------------------------------------------------------------------------\u001b[0m",
      "\u001b[0;31mNameError\u001b[0m                                 Traceback (most recent call last)",
      "\u001b[0;32m/var/folders/x2/w2gbb51j5yj53k54hlsjn50m0000gn/T/ipykernel_75415/1836039460.py\u001b[0m in \u001b[0;36m<module>\u001b[0;34m\u001b[0m\n\u001b[1;32m      1\u001b[0m \u001b[0mn_max_list_1D\u001b[0m \u001b[0;34m=\u001b[0m \u001b[0;34m[\u001b[0m\u001b[0mn\u001b[0m \u001b[0;32mfor\u001b[0m \u001b[0mn\u001b[0m \u001b[0;32min\u001b[0m \u001b[0mrange\u001b[0m\u001b[0;34m(\u001b[0m\u001b[0;36m2\u001b[0m\u001b[0;34m,\u001b[0m \u001b[0;36m101\u001b[0m\u001b[0;34m)\u001b[0m\u001b[0;34m]\u001b[0m\u001b[0;34m\u001b[0m\u001b[0;34m\u001b[0m\u001b[0m\n\u001b[1;32m      2\u001b[0m \u001b[0ms_max_list_1D\u001b[0m \u001b[0;34m=\u001b[0m \u001b[0;34m[\u001b[0m\u001b[0mint\u001b[0m\u001b[0;34m(\u001b[0m \u001b[0;36m2\u001b[0m \u001b[0;34m*\u001b[0m \u001b[0;34m(\u001b[0m\u001b[0mn\u001b[0m \u001b[0;34m-\u001b[0m \u001b[0;36m1\u001b[0m\u001b[0;34m)\u001b[0m \u001b[0;34m)\u001b[0m \u001b[0;32mfor\u001b[0m \u001b[0mn\u001b[0m \u001b[0;32min\u001b[0m \u001b[0mn_max_list_1D\u001b[0m\u001b[0;34m]\u001b[0m\u001b[0;34m\u001b[0m\u001b[0;34m\u001b[0m\u001b[0m\n\u001b[0;32m----> 3\u001b[0;31m \u001b[0mreward_list_1D\u001b[0m \u001b[0;34m=\u001b[0m \u001b[0marray\u001b[0m\u001b[0;34m(\u001b[0m\u001b[0;34m[\u001b[0m\u001b[0mn_s_Reward\u001b[0m\u001b[0;34m(\u001b[0m\u001b[0mn\u001b[0m\u001b[0;34m,\u001b[0m \u001b[0mint\u001b[0m\u001b[0;34m(\u001b[0m \u001b[0;36m2\u001b[0m \u001b[0;34m*\u001b[0m \u001b[0;34m(\u001b[0m\u001b[0mn\u001b[0m \u001b[0;34m-\u001b[0m \u001b[0;36m1\u001b[0m\u001b[0;34m)\u001b[0m \u001b[0;34m)\u001b[0m\u001b[0;34m,\u001b[0m \u001b[0mstring_spec\u001b[0m\u001b[0;34m)\u001b[0m \u001b[0;32mfor\u001b[0m \u001b[0mn\u001b[0m \u001b[0;32min\u001b[0m \u001b[0mn_max_list_1D\u001b[0m\u001b[0;34m]\u001b[0m\u001b[0;34m)\u001b[0m\u001b[0;34m\u001b[0m\u001b[0;34m\u001b[0m\u001b[0m\n\u001b[0m",
      "\u001b[0;32m/var/folders/x2/w2gbb51j5yj53k54hlsjn50m0000gn/T/ipykernel_75415/1836039460.py\u001b[0m in \u001b[0;36m<listcomp>\u001b[0;34m(.0)\u001b[0m\n\u001b[1;32m      1\u001b[0m \u001b[0mn_max_list_1D\u001b[0m \u001b[0;34m=\u001b[0m \u001b[0;34m[\u001b[0m\u001b[0mn\u001b[0m \u001b[0;32mfor\u001b[0m \u001b[0mn\u001b[0m \u001b[0;32min\u001b[0m \u001b[0mrange\u001b[0m\u001b[0;34m(\u001b[0m\u001b[0;36m2\u001b[0m\u001b[0;34m,\u001b[0m \u001b[0;36m101\u001b[0m\u001b[0;34m)\u001b[0m\u001b[0;34m]\u001b[0m\u001b[0;34m\u001b[0m\u001b[0;34m\u001b[0m\u001b[0m\n\u001b[1;32m      2\u001b[0m \u001b[0ms_max_list_1D\u001b[0m \u001b[0;34m=\u001b[0m \u001b[0;34m[\u001b[0m\u001b[0mint\u001b[0m\u001b[0;34m(\u001b[0m \u001b[0;36m2\u001b[0m \u001b[0;34m*\u001b[0m \u001b[0;34m(\u001b[0m\u001b[0mn\u001b[0m \u001b[0;34m-\u001b[0m \u001b[0;36m1\u001b[0m\u001b[0;34m)\u001b[0m \u001b[0;34m)\u001b[0m \u001b[0;32mfor\u001b[0m \u001b[0mn\u001b[0m \u001b[0;32min\u001b[0m \u001b[0mn_max_list_1D\u001b[0m\u001b[0;34m]\u001b[0m\u001b[0;34m\u001b[0m\u001b[0;34m\u001b[0m\u001b[0m\n\u001b[0;32m----> 3\u001b[0;31m \u001b[0mreward_list_1D\u001b[0m \u001b[0;34m=\u001b[0m \u001b[0marray\u001b[0m\u001b[0;34m(\u001b[0m\u001b[0;34m[\u001b[0m\u001b[0mn_s_Reward\u001b[0m\u001b[0;34m(\u001b[0m\u001b[0mn\u001b[0m\u001b[0;34m,\u001b[0m \u001b[0mint\u001b[0m\u001b[0;34m(\u001b[0m \u001b[0;36m2\u001b[0m \u001b[0;34m*\u001b[0m \u001b[0;34m(\u001b[0m\u001b[0mn\u001b[0m \u001b[0;34m-\u001b[0m \u001b[0;36m1\u001b[0m\u001b[0;34m)\u001b[0m \u001b[0;34m)\u001b[0m\u001b[0;34m,\u001b[0m \u001b[0mstring_spec\u001b[0m\u001b[0;34m)\u001b[0m \u001b[0;32mfor\u001b[0m \u001b[0mn\u001b[0m \u001b[0;32min\u001b[0m \u001b[0mn_max_list_1D\u001b[0m\u001b[0;34m]\u001b[0m\u001b[0;34m)\u001b[0m\u001b[0;34m\u001b[0m\u001b[0;34m\u001b[0m\u001b[0m\n\u001b[0m",
      "\u001b[0;31mNameError\u001b[0m: name 'string_spec' is not defined"
     ]
    }
   ],
   "source": [
    "n_max_list_1D = [n for n in range(2, 101)]\n",
    "s_max_list_1D = [int( 2 * (n - 1) ) for n in n_max_list_1D]\n",
    "reward_list_1D = array([n_s_Reward(n, int( 2 * (n - 1) ), string_spec) for n in n_max_list_1D])"
   ]
  },
  {
   "cell_type": "code",
   "execution_count": 18,
   "metadata": {},
   "outputs": [],
   "source": [
    "reward_list_1D_2 = array([n_s_Reward(n, int( 2 * (n - 1) ), string_spec, [5 + i for i in range(0, 26)]) for n in n_max_list_1D])"
   ]
  },
  {
   "cell_type": "code",
   "execution_count": 20,
   "metadata": {},
   "outputs": [
    {
     "data": {
      "image/png": "[encoded data removed]",
      "text/plain": [
       "<Figure size 864x576 with 2 Axes>"
      ]
     },
     "metadata": {
      "needs_background": "light"
     },
     "output_type": "display_data"
    }
   ],
   "source": [
    "fig2, ax_2 = plt.subplots(constrained_layout=True)\n",
    "\n",
    "ax_2.plot(n_max_list_1D, np.log10(-reward_list_1D), '-o')\n",
    "ax_2.plot(5, log10(0.00013114670915347613), 'or')\n",
    "ax_2.grid(True)\n",
    "ax_2.set_xlabel('Max Mass Square')\n",
    "ax_2.set_ylabel('log(-Reward)')\n",
    "ax_2.set_xticks(n_max_list_1D[::4])\n",
    "\n",
    "ax_s = ax_2.twiny()\n",
    "ax_s.set_xticks(ax_2.get_xticks())\n",
    "ax_s.set_xbound(ax_2.get_xbound())\n",
    "ax_s.set_xticklabels(2 * (array(n_max_list_1D[::4]) - 1))\n",
    "ax_s.set_xlabel('Max Spin')\n",
    "\n",
    "\n",
    "plt.rcParams[\"figure.figsize\"] = (20, 10)\n",
    "\n",
    "plt.show()"
   ]
  },
  {
   "cell_type": "markdown",
   "metadata": {},
   "source": [
    "### Convergence Test 3 (1D Plot)"
   ]
  },
  {
   "cell_type": "code",
   "execution_count": 21,
   "metadata": {},
   "outputs": [],
   "source": [
    "n_max_list_1D = [n for n in range(2, 101)]\n",
    "s_max_list_1D = [int( 2 * (n - 1) ) for n in n_max_list_1D]\n",
    "reward_list_1D = array([n_s_Reward(n, int( 2 * (n - 1) ), string_spec) for n in n_max_list_1D])"
   ]
  },
  {
   "cell_type": "code",
   "execution_count": 22,
   "metadata": {},
   "outputs": [],
   "source": [
    "reward_list_1D_2 = array([n_s_Reward(n, int( 2 * (n - 1) ), string_spec, [5 + i for i in range(0, 26)]) for n in n_max_list_1D])"
   ]
  },
  {
   "cell_type": "code",
   "execution_count": 48,
   "metadata": {},
   "outputs": [],
   "source": [
    "acc_reward_list_1D_2 = array([n_s_Reward(1, s, acc_spec, [5 + i for i in range(0, 26)]) for s in s_max_list_1D])"
   ]
  },
  {
   "cell_type": "code",
   "execution_count": 51,
   "metadata": {},
   "outputs": [
    {
     "data": {
      "image/png": "[encoded data removed]",
      "text/plain": [
       "<Figure size 864x576 with 2 Axes>"
      ]
     },
     "metadata": {
      "needs_background": "light"
     },
     "output_type": "display_data"
    }
   ],
   "source": [
    "fig2, ax_2 = plt.subplots(constrained_layout=True)\n",
    "\n",
    "ax_2.plot(s_max_list_1D, np.log10(-reward_list_1D), '-o')\n",
    "ax_2.plot(s_max_list_1D, np.log10(-acc_reward_list_1D_2), '-o')\n",
    "ax_2.plot(8, log10(0.00013114670915347613), 'or')\n",
    "ax_2.grid(True)\n",
    "ax_2.set_xlabel('Max Spin')\n",
    "ax_2.set_ylabel('log(-Reward)')\n",
    "ax_2.set_xticks(s_max_list_1D[::4])\n",
    "\n",
    "ax_s = ax_2.twiny()\n",
    "ax_s.set_xticks(ax_2.get_xticks())\n",
    "ax_s.set_xbound(ax_2.get_xbound())\n",
    "ax_s.set_xticklabels(1 + array(s_max_list_1D[::4])/2)\n",
    "ax_s.set_xlabel('Max Square Mass (For String)')\n",
    "\n",
    "\n",
    "plt.rcParams[\"figure.figsize\"] = (12, 8)\n",
    "\n",
    "plt.show()"
   ]
  },
  {
   "cell_type": "markdown",
   "metadata": {},
   "source": [
    "### Training"
   ]
  },
  {
   "cell_type": "code",
   "execution_count": 256,
   "metadata": {},
   "outputs": [
    {
     "data": {
      "text/plain": [
       "array([1., 1.])"
      ]
     },
     "execution_count": 256,
     "metadata": {},
     "output_type": "execute_result"
    }
   ],
   "source": [
    "String_1_New.Full_Spec[0:2]"
   ]
  },
  {
   "cell_type": "code",
   "execution_count": 7,
   "metadata": {},
   "outputs": [],
   "source": [
    "class TensorboardCallback(BaseCallback):\n",
    "    \"\"\"\n",
    "    Custom callback for plotting additional values in tensorboard.\n",
    "    \"\"\"\n",
    "\n",
    "    def __init__(self, verbose=0):\n",
    "        super(TensorboardCallback, self).__init__(verbose)\n",
    "\n",
    "    def _on_step(self) -> bool:\n",
    "        # Log scalar value (here a random variable)\n",
    "        value = np.random.random()\n",
    "        self.logger.record('random_value', value)\n",
    "        return True\n"
   ]
  },
  {
   "cell_type": "code",
   "execution_count": 14,
   "metadata": {},
   "outputs": [],
   "source": [
    "guess_steps = 500\n",
    "total_steps = 5000\n",
    "trapped = 50\n",
    "\n",
    "reward_scale = 0.005\n",
    "\n",
    "#mask = np.ones(10)\n",
    "#mask[::2] = 0.\n",
    "freeze_Id = array([1.] * Random_Theory_1.dim)\n",
    "freeze_Id[::2] = 0.\n",
    "freeze_Id[1] = 0\n",
    "\n",
    "initial_state = Random_Theory_1.Full_Spec\n",
    "\n",
    "search_sizes = array([1.] * Random_Theory_1.dim)\n",
    "search_sizes[::2] = 0.\n",
    "\n",
    "state_min = [ (0 if i % 2 == 1 else - inf) for i in range(Random_Theory_1.dim) ]\n",
    "state_max = [ (1 if i % 2 == 1 else + inf) for i in range(Random_Theory_1.dim) ]\n"
   ]
  },
  {
   "cell_type": "code",
   "execution_count": null,
   "metadata": {},
   "outputs": [],
   "source": [
    "env = Training_Env_New(\n",
    "             Random_Theory_1, freeze_Id,\n",
    "             min_state_bound = state_min, max_state_bound = state_max,\n",
    "             guess_mode_steps = guess_steps, trapped_steps = trapped, \n",
    "             reward_scale=reward_scale, guess_size=search_sizes, print_interval = 100\n",
    "             )\n",
    "\n",
    "log_dir = \"tmp/gym/String\"\n",
    "os.makedirs(log_dir, exist_ok = True)\n",
    "#monitor = Monitor(env, log_dir)\n",
    "#model = SAC(MlpPolicy, monitor, verbose = 1, device = 'cuda', tensorboard_log=\"./String_tensorboard/\")\n",
    "#model.learn(total_timesteps = total_steps, log_interval = 100)\n",
    "model = SAC(MlpPolicy, env, verbose = 1, device = 'cuda', tensorboard_log=\"./String_tensorboard/\")\n",
    "model.learn(total_timesteps = total_steps)\n"
   ]
  },
  {
   "cell_type": "code",
   "execution_count": 13,
   "metadata": {},
   "outputs": [
    {
     "name": "stdout",
     "output_type": "stream",
     "text": [
      "\n",
      "NOTE: Using experimental fast data loading logic. To disable, pass\n",
      "    \"--load_fast=false\" and report issues on GitHub. More details:\n",
      "    https://github.com/tensorflow/tensorboard/issues/4784\n",
      "\n",
      "I1229 14:38:19.841605 123145454428160 plugin.py:346] Monitor runs begin\n",
      "Serving TensorBoard on localhost; to expose to the network, use a proxy or pass --bind_all\n",
      "TensorBoard 2.7.0 at http://localhost:6007/ (Press CTRL+C to quit)\n",
      "^C\n"
     ]
    }
   ],
   "source": [
    "%reload_ext tensorboard\n",
    "!tensorboard --logdir ./String_tensorboard"
   ]
  },
  {
   "cell_type": "markdown",
   "metadata": {},
   "source": [
    "## Model 2"
   ]
  },
  {
   "cell_type": "code",
   "execution_count": 52,
   "metadata": {},
   "outputs": [],
   "source": [
    "String_Spec_2 = {\n",
    "0: [{'m': 1, 'cl': 1}, {'m': sqrt(3), 'cl': 1/12}, {'m': sqrt(5), 'cl': 19/720}, {'m': sqrt(7), 'cl': 751/60480}, {'m': 3, 'cl': 2857/403200}],\n",
    "1: [{'m': sqrt(2), 'cl': 1/2}, {'m': sqrt(4), 'cl': 7/60}, {'m': sqrt(6), 'cl': 41/840}, {'m': sqrt(8), 'cl': 989/37800}, {'m': sqrt(10), 'cl': 16067/997920}],\n",
    "2: [{'m': sqrt(3), 'cl': 1/4}, {'m': sqrt(5), 'cl': 25/252}, {'m': sqrt(7), 'cl': 49/960}, {'m': sqrt(9), 'cl': 4517/147840}],\n",
    "3: [{'m': sqrt(4), 'cl': 2/15}, {'m': sqrt(6), 'cl': 3/40}, {'m': sqrt(8), 'cl': 1013/22275}, {'m': sqrt(10), 'cl': 58295/1945944}],\n",
    "4: [{'m': sqrt(5), 'cl': 25/336}, {'m': sqrt(7), 'cl': 343/6336}, {'m': sqrt(9), 'cl': 7533/200200}],\n",
    "5: [{'m': sqrt(6), 'cl': 3/70}, {'m': sqrt(8), 'cl': 1408/36855}, {'m': sqrt(10), 'cl': 1625/54432}],\n",
    "}\n",
    "String_2 = S_Matrix(String_Spec_2, String_Spec_2, Constrained_k, u_channel = False)"
   ]
  },
  {
   "cell_type": "code",
   "execution_count": 59,
   "metadata": {},
   "outputs": [],
   "source": [
    "Random_Spec_2 = {\n",
    "0: [{\"m\": sqrt(1), 'cl': 1}, {'m': sqrt(3), 'cl': rand()}, {'m': sqrt(5), 'cl': rand()}, {'m': sqrt(7), 'cl': rand()}, {'m': 3, 'cl': rand()}],\n",
    "1: [{\"m\": sqrt(2), 'cl': rand()}, {'m': sqrt(4), 'cl': rand()}, {'m': sqrt(6), 'cl': rand()}, {'m': sqrt(8), 'cl': rand()}, {'m': sqrt(10), 'cl': rand()}],\n",
    "2: [{\"m\": sqrt(3), 'cl': rand()}, {'m': sqrt(5), 'cl': rand()}, {'m': sqrt(7), 'cl': rand()}, {'m': sqrt(9), 'cl': rand()}],\n",
    "3: [{\"m\": sqrt(4), 'cl': rand()}, {'m': sqrt(6), 'cl': rand()}, {'m': sqrt(8), 'cl': rand()}, {'m': sqrt(10), 'cl': rand()}],\n",
    "4: [{\"m\": sqrt(5), 'cl': rand()}, {'m': sqrt(7), 'cl': rand()}, {'m': sqrt(9), 'cl': rand()}],\n",
    "5: [{\"m\": sqrt(6), 'cl': rand()}, {'m': sqrt(8), 'cl': rand()}, {'m': sqrt(10), 'cl': rand()}],\n",
    "}\n",
    "Random_Theory_2 = S_Matrix(Random_Spec_2, Random_Spec_2, Constrained_k, u_channel = False)"
   ]
  },
  {
   "cell_type": "code",
   "execution_count": 69,
   "metadata": {},
   "outputs": [
    {
     "name": "stdout",
     "output_type": "stream",
     "text": [
      "-0.0038356787638883496\n"
     ]
    }
   ],
   "source": [
    "print(String_2.s_kq_Coeff(5, ))"
   ]
  },
  {
   "cell_type": "code",
   "execution_count": 60,
   "metadata": {},
   "outputs": [
    {
     "name": "stdout",
     "output_type": "stream",
     "text": [
      "[-7.24960718e-09 -2.80612084e-07  3.71176380e-03 -5.17568343e-04\n",
      " -1.19635373e-09 -4.08873588e-06 -5.81041480e-07 -6.81172963e-06\n",
      " -8.80256275e-07 -1.97905271e-10 -9.74755622e-09 -4.36212107e-08\n",
      " -9.98832181e-09 -1.93951395e-07 -1.94875567e-05 -4.40706010e-08\n",
      " -7.31302048e-06 -1.10757982e-04 -8.53418101e-05 -5.27705573e-08\n",
      " -2.02042656e-06 -5.20339570e-08 -2.12024542e-04  0.00000000e+00\n",
      " -1.72765673e-07 -1.84248045e-09 -2.77304399e-05 -1.53092273e-06\n",
      " -4.04208189e-04  0.00000000e+00]\n",
      "[ 8.09478013e-09  3.15001200e-07 -1.91707786e-03  1.41170149e-03\n",
      "  1.33643606e-09  5.01490975e-06  1.58839168e-06  7.64172966e-06\n",
      "  1.09449129e-06  2.21156102e-10  1.09567979e-08  5.56040380e-08\n",
      "  1.28696892e-08  2.44296178e-07  2.35699230e-05  4.91796721e-08\n",
      "  1.69184782e-05  2.07288974e-04  1.02611986e-04  1.61297669e-07\n",
      "  5.11692516e-06  5.84537036e-08  2.65753357e-04  0.00000000e+00\n",
      "  5.02627796e-07  2.07208518e-09  5.79093053e-05  1.71700157e-06\n",
      "  7.13764953e-04  0.00000000e+00]\n"
     ]
    }
   ],
   "source": [
    "print(String_2.Crossing() - Random_Theory_2.Crossing())\n",
    "print(Random_Theory_2.Crossing())"
   ]
  },
  {
   "cell_type": "code",
   "execution_count": 61,
   "metadata": {},
   "outputs": [
    {
     "name": "stdout",
     "output_type": "stream",
     "text": [
      "-0.0020321743090223206\n",
      "-0.002511171819580318\n"
     ]
    }
   ],
   "source": [
    "print(String_2.Reward())\n",
    "print(Random_Theory_2.Reward())"
   ]
  },
  {
   "cell_type": "code",
   "execution_count": null,
   "metadata": {},
   "outputs": [],
   "source": []
  }
 ],
 "metadata": {
  "interpreter": {
   "hash": "aee8b7b246df8f9039afb4144a1f6fd8d2ca17a180786b69acc140d282b71a49"
  },
  "kernelspec": {
   "display_name": "Python 3.9.7 64-bit",
   "language": "python",
   "name": "python3"
  },
  "language_info": {
   "codemirror_mode": {
    "name": "ipython",
    "version": 3
   },
   "file_extension": ".py",
   "mimetype": "text/x-python",
   "name": "python",
   "nbconvert_exporter": "python",
   "pygments_lexer": "ipython3",
   "version": "3.9.7"
  },
  "orig_nbformat": 4
 },
 "nbformat": 4,
 "nbformat_minor": 2
}
